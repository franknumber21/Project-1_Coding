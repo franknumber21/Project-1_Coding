{
  "nbformat": 4,
  "nbformat_minor": 0,
  "metadata": {
    "colab": {
      "provenance": [],
      "authorship_tag": "ABX9TyOd0Xfl1ZyAGLxoWKFQKAlr",
      "include_colab_link": true
    },
    "kernelspec": {
      "name": "python3",
      "display_name": "Python 3"
    },
    "language_info": {
      "name": "python"
    }
  },
  "cells": [
    {
      "cell_type": "markdown",
      "metadata": {
        "id": "view-in-github",
        "colab_type": "text"
      },
      "source": [
        "<a href=\"https://colab.research.google.com/github/franknumber21/Project-1_Coding/blob/main/21_frank.ipynb\" target=\"_parent\"><img src=\"https://colab.research.google.com/assets/colab-badge.svg\" alt=\"Open In Colab\"/></a>"
      ]
    },
    {
      "cell_type": "code",
      "execution_count": null,
      "metadata": {
        "id": "CmX6mQ2odYFP"
      },
      "outputs": [],
      "source": []
    },
    {
      "cell_type": "markdown",
      "source": [
        "เลขที่ 21 เเฟรงค์ กวิน เย็นวารีย์  number21 nickname frank kawin yearwaree"
      ],
      "metadata": {
        "id": "HBHpuufodeTW"
      }
    },
    {
      "cell_type": "code",
      "source": [
        "print(\"hello frank\")"
      ],
      "metadata": {
        "colab": {
          "base_uri": "https://localhost:8080/"
        },
        "id": "YP-TacZGBLRd",
        "outputId": "d5efacc9-e87a-4437-aa03-bcbcc074eb09"
      },
      "execution_count": null,
      "outputs": [
        {
          "output_type": "stream",
          "name": "stdout",
          "text": [
            "hello frank\n"
          ]
        }
      ]
    },
    {
      "cell_type": "code",
      "source": [
        "a = 2\n",
        "b = 3\n",
        "print(a*b)"
      ],
      "metadata": {
        "colab": {
          "base_uri": "https://localhost:8080/"
        },
        "id": "p6ISC_NSHSfW",
        "outputId": "b4f35ebd-788c-412a-f3b1-474379127fe8"
      },
      "execution_count": null,
      "outputs": [
        {
          "output_type": "stream",
          "name": "stdout",
          "text": [
            "6\n"
          ]
        }
      ]
    },
    {
      "cell_type": "code",
      "source": [
        "a = 2\n",
        "b = 1.5\n",
        "c = \"เเฟรงค์\"\n",
        "\n",
        "print(\"ตัวเเปรที่ฉันคิดว่าดื้อคือ x \")"
      ],
      "metadata": {
        "colab": {
          "base_uri": "https://localhost:8080/"
        },
        "id": "sIGNy0RqY2Xl",
        "outputId": "a43d2089-46a6-462e-d219-0cc6b0a58005"
      },
      "execution_count": null,
      "outputs": [
        {
          "output_type": "execute_result",
          "data": {
            "text/plain": [
              "int"
            ]
          },
          "metadata": {},
          "execution_count": 3
        }
      ]
    },
    {
      "cell_type": "code",
      "source": [],
      "metadata": {
        "id": "GPgqIEosWkNW"
      },
      "execution_count": null,
      "outputs": []
    },
    {
      "cell_type": "markdown",
      "source": [
        "5/05/67"
      ],
      "metadata": {
        "id": "arHmxu8wWbLt"
      }
    },
    {
      "cell_type": "code",
      "source": [
        "string1 = \"Python\"\n",
        "print(string1[0])"
      ],
      "metadata": {
        "colab": {
          "base_uri": "https://localhost:8080/"
        },
        "id": "ZOA8-d4IbYTj",
        "outputId": "61f7cf1c-7f42-4772-8504-03ce36a8b4fe"
      },
      "execution_count": null,
      "outputs": [
        {
          "output_type": "stream",
          "name": "stdout",
          "text": [
            "P\n"
          ]
        }
      ]
    },
    {
      "cell_type": "markdown",
      "source": [
        "index คือ มีตัวเลขอยู่ในข้อความเริ่มจาก 0\n",
        "* ความสัมพันธ์ของคอมพิวเตอร์\n",
        "* input string1\n",
        "* process print\n",
        "* output P"
      ],
      "metadata": {
        "id": "YT4rLKfScBeq"
      }
    },
    {
      "cell_type": "markdown",
      "source": [
        "26 มิถุนายน 2567"
      ],
      "metadata": {
        "id": "a2EaiIDZuFu8"
      }
    },
    {
      "cell_type": "code",
      "source": [
        "1side = int(input(\"ความยาวด้าน (ซม.)คือ\"))\n",
        "\n",
        "3area = side*side\n",
        "4\n",
        "5print(\"พื้นที่สี่เหลื่ยม เท่่ากับ \" ,area,\"ตร.ซม. \")"
      ],
      "metadata": {
        "colab": {
          "base_uri": "https://localhost:8080/",
          "height": 109
        },
        "id": "wb8kMdnoy6oE",
        "outputId": "bfe1321f-6b27-43d0-9e78-df7e803a61e8"
      },
      "execution_count": null,
      "outputs": [
        {
          "output_type": "error",
          "ename": "SyntaxError",
          "evalue": "invalid decimal literal (<ipython-input-15-0cfd263a8322>, line 1)",
          "traceback": [
            "\u001b[0;36m  File \u001b[0;32m\"<ipython-input-15-0cfd263a8322>\"\u001b[0;36m, line \u001b[0;32m1\u001b[0m\n\u001b[0;31m    1side = int(input(\"ความยาวด้าน (ซม.)คือ\"))\u001b[0m\n\u001b[0m    ^\u001b[0m\n\u001b[0;31mSyntaxError\u001b[0m\u001b[0;31m:\u001b[0m invalid decimal literal\n"
          ]
        }
      ]
    },
    {
      "cell_type": "markdown",
      "source": [
        "1 กรกฏาคม 2567"
      ],
      "metadata": {
        "id": "YIAf9UzsQGUD"
      }
    },
    {
      "cell_type": "code",
      "source": [
        "side = int(input(\"ความยาวด้านกว้าง\"))\n",
        "side2 = int(input(\"ความยาวด้านยาว\"))\n",
        "area = side*side2\n",
        "print(\"พื้นที่สี่เหลื่ยมพื้นผ้า เท่ากับ \",area,\" ตร.ซม.\")"
      ],
      "metadata": {
        "colab": {
          "base_uri": "https://localhost:8080/"
        },
        "id": "VZmh0WafQHcj",
        "outputId": "f2624a96-64a7-4bdb-bbf0-63ee7190c5f7"
      },
      "execution_count": null,
      "outputs": [
        {
          "output_type": "stream",
          "name": "stdout",
          "text": [
            "ความยาวด้านกว้าง4\n",
            "ความยาวด้านยาว5\n",
            "พื้นที่สี่เหลื่ยมพื้นผ้า เท่ากับ  20  ตร.ซม.\n"
          ]
        }
      ]
    },
    {
      "cell_type": "code",
      "source": [
        "s =float(input(\"ระยะทาง\"))\n",
        "t = float(input(\"เวลา\"))\n",
        "v = s/t\n",
        "print(\"v เท่ากับ\",v,\"เมตรต่อวินาที\" )"
      ],
      "metadata": {
        "colab": {
          "base_uri": "https://localhost:8080/"
        },
        "id": "hL50vUiJSlFr",
        "outputId": "e6890c70-5213-4e6d-df18-0dc64fb02324"
      },
      "execution_count": null,
      "outputs": [
        {
          "output_type": "stream",
          "name": "stdout",
          "text": [
            "ระยะทาง40\n",
            "เวลา5\n",
            "v เท่ากับ 8.0 เมตรต่อวินาที\n"
          ]
        }
      ]
    },
    {
      "cell_type": "code",
      "source": [
        "weight = float(input(\"น้ำหนักตัว (กก.)\"))\n",
        "h = float(input(\"ส่วนสูง (ซม.)\"))\n",
        "BMI = weight/h**2\n",
        "print(\"BMI เท่ากับ\",BMI,)\n",
        "print (\"\\nโปรเเกรมคำวนวณค้่าBMIเพื่อสุขภาพ \\nนายกวิน เย็นวารีย์\")\n",
        "name = input(\"ชื่อ \")\n",
        "print(\"ยินดีต้อนรับ\")\n",
        "if BMI  >== 18.5:\n",
        "    print(\"ไปกินข้าว\")\n",
        "else BMI\n",
        "    print(\"ไปกินผัก\")\n"
      ],
      "metadata": {
        "colab": {
          "base_uri": "https://localhost:8080/",
          "height": 108
        },
        "id": "vJNgU9IEXwka",
        "outputId": "ceb0ce9b-bccc-4eb3-a055-f3fd60c65eb6"
      },
      "execution_count": null,
      "outputs": [
        {
          "output_type": "error",
          "ename": "SyntaxError",
          "evalue": "invalid syntax (<ipython-input-45-b05dd4eeaf7b>, line 8)",
          "traceback": [
            "\u001b[0;36m  File \u001b[0;32m\"<ipython-input-45-b05dd4eeaf7b>\"\u001b[0;36m, line \u001b[0;32m8\u001b[0m\n\u001b[0;31m    if BMI  == <18.5\u001b[0m\n\u001b[0m               ^\u001b[0m\n\u001b[0;31mSyntaxError\u001b[0m\u001b[0;31m:\u001b[0m invalid syntax\n"
          ]
        }
      ]
    }
  ]
}